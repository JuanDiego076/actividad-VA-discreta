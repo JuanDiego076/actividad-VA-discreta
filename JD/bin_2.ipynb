{
 "cells": [
  {
   "attachments": {},
   "cell_type": "markdown",
   "metadata": {},
   "source": [
    "## Distribucion binomial - Ejercicio 2\n",
    "\n",
    "* **Nombre**: Juan Diego Taborda Roldán\n",
    "* **Distribucion**: binomial\n",
    "* **Punto**: 2\n",
    "\n",
    "### Enunciado ###\n",
    "2. El sistema de seguridad de una casa está diseñado para tener un 99% de confiabilidad. Suponga que nueve casas equipadas con este sistema experimentan un intento de robo. Encuentre las probabilidades de estos eventos:\n",
    "   <ol style=\"list-style-type: lower-alpha\">\n",
    "   <li>Al menos una de las alarmas se activó. (<b>Rta</b>: 1) </li>\n",
    "   <li>Más de siete de las alarmas se activaron  (<b>Rta</b>: 0.997)</li>\n",
    "   <li>Ocho o menos alarmas se activaron   (<b>Rta</b>: 0.086)</li>\n",
    "   </ol>\n"
   ]
  },
  {
   "cell_type": "code",
   "execution_count": null,
   "metadata": {},
   "outputs": [],
   "source": [
    "# Code...\n",
    "print(\"hola\")"
   ]
  },
  {
   "cell_type": "code",
   "execution_count": null,
   "metadata": {},
   "outputs": [],
   "source": []
  }
 ],
 "metadata": {
  "kernelspec": {
   "display_name": "Python 3",
   "language": "python",
   "name": "python3"
  },
  "language_info": {
   "name": "python",
   "version": "3.10.5"
  },
  "orig_nbformat": 4,
  "vscode": {
   "interpreter": {
    "hash": "26de051ba29f2982a8de78e945f0abaf191376122a1563185a90213a26c5da77"
   }
  }
 },
 "nbformat": 4,
 "nbformat_minor": 2
}
